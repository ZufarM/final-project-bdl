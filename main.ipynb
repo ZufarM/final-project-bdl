{
 "cells": [
  {
   "cell_type": "code",
   "execution_count": 7,
   "metadata": {},
   "outputs": [
    {
     "name": "stdout",
     "output_type": "stream",
     "text": [
      "Requirement already satisfied: pymongo in c:\\programdata\\anaconda3\\lib\\site-packages (3.11.4)\n",
      "Requirement already satisfied: pandas in c:\\programdata\\anaconda3\\lib\\site-packages (0.25.1)\n",
      "Requirement already satisfied: Matplotlib in c:\\programdata\\anaconda3\\lib\\site-packages (3.1.1)\n",
      "Requirement already satisfied: Seaborn in c:\\programdata\\anaconda3\\lib\\site-packages (0.9.0)\n",
      "Requirement already satisfied: pytz>=2017.2 in c:\\programdata\\anaconda3\\lib\\site-packages (from pandas) (2019.3)\n",
      "Requirement already satisfied: numpy>=1.13.3 in c:\\programdata\\anaconda3\\lib\\site-packages (from pandas) (1.16.5)\n",
      "Requirement already satisfied: python-dateutil>=2.6.1 in c:\\programdata\\anaconda3\\lib\\site-packages (from pandas) (2.8.0)\n",
      "Requirement already satisfied: cycler>=0.10 in c:\\programdata\\anaconda3\\lib\\site-packages (from Matplotlib) (0.10.0)\n",
      "Requirement already satisfied: kiwisolver>=1.0.1 in c:\\programdata\\anaconda3\\lib\\site-packages (from Matplotlib) (1.1.0)\n",
      "Requirement already satisfied: pyparsing!=2.0.4,!=2.1.2,!=2.1.6,>=2.0.1 in c:\\programdata\\anaconda3\\lib\\site-packages (from Matplotlib) (2.4.2)\n",
      "Requirement already satisfied: scipy>=0.14.0 in c:\\programdata\\anaconda3\\lib\\site-packages (from Seaborn) (1.3.1)\n",
      "Requirement already satisfied: six>=1.5 in c:\\programdata\\anaconda3\\lib\\site-packages (from python-dateutil>=2.6.1->pandas) (1.12.0)\n",
      "Requirement already satisfied: setuptools in c:\\programdata\\anaconda3\\lib\\site-packages (from kiwisolver>=1.0.1->Matplotlib) (41.4.0)\n",
      "Note: you may need to restart the kernel to use updated packages.\n"
     ]
    }
   ],
   "source": [
    "pip install pymongo pandas Matplotlib Seaborn"
   ]
  },
  {
   "cell_type": "code",
   "execution_count": 37,
   "metadata": {},
   "outputs": [
    {
     "name": "stdout",
     "output_type": "stream",
     "text": [
      "Jumlah data 395\n"
     ]
    },
    {
     "data": {
      "image/png": "[encoded data removed]",
      "text/plain": [
       "<Figure size 216x432 with 1 Axes>"
      ]
     },
     "metadata": {
      "needs_background": "light"
     },
     "output_type": "display_data"
    }
   ],
   "source": [
    "# main.ipynb\n",
    "# \n",
    "# Final Project Basisdata Lanjut \n",
    "# Visualisasi data pada struktur dua dimensi rata2 absen  \n",
    "# terhadap tingkat kesehatan siswa. Menggunakan data \n",
    "# Student Performance matakuliah matematika\n",
    "# http://archive.ics.uci.edu/ml/datasets/Student+Performance\n",
    "# \n",
    "# M Zufar Taqiuddin <2021>\n",
    "\n",
    "import json\n",
    "import pandas as pd\n",
    "import pymongo\n",
    "from bson.json_util import dumps\n",
    "import matplotlib.pyplot as plt\n",
    "\n",
    "myclient = pymongo.MongoClient(\"mongodb://127.0.0.1:27017\") # server mongoDB\n",
    "mydb = myclient[\"StudentPerformance\"] # nama database\n",
    "mycol = mydb[\"student-mat\"] # nama collection\n",
    "\n",
    "# Menghitung isidata\n",
    "query = mycol.estimated_document_count() # query yang dijalankan\n",
    "print(\"Jumlah data\",query) # output query\n",
    "\n",
    "# ----------------------------\n",
    "# Data Cleaning\n",
    "# ----------------------------\n",
    "# Menampilkan kolom yang diperlukan pada Dataframe\n",
    "query_m = mycol.find({},{ 'absences': 1, '_id': 1, 'health':1 }) # query yang dijalankan menhasilkan data tipe cursor\n",
    "list_cur_m = list(query_m) # konversi cursor menjadi list\n",
    "df_m = pd.DataFrame(list_cur_m) # pemrosesan data menggunakan library pandas\n",
    "df_m = df_m.fillna(method='pad').head(20) # Ubah/isikan pada data yang kosong dengan nilai setelahnya\n",
    "\n",
    "# ----------------------------\n",
    "# Repersentasi Data\n",
    "# ----------------------------\n",
    "# Matplotlib init\n",
    "plt.figure(figsize=(3, 6))\n",
    "rata2_absen = df_m[\"absences\"].astype(float) #rata2 absen\n",
    "plt.bar(df_m['health'], rata2_absen ) # mengisikan nilai pada statistik bar\n",
    "plt.xticks(df_m['health'], rotation=0)\n",
    "plt.ylabel('Rata-rata Absen')\n",
    "plt.title('Rata-rata Absen Siswa Berdasarkan Tingkat Kesehatan pada Mata Pelajaran Matematika\\n', size=16)\n",
    "plt.show()"
   ]
  },
  {
   "cell_type": "code",
   "execution_count": null,
   "metadata": {},
   "outputs": [],
   "source": []
  }
 ],
 "metadata": {
  "kernelspec": {
   "display_name": "Python 3",
   "language": "python",
   "name": "python3"
  },
  "language_info": {
   "codemirror_mode": {
    "name": "ipython",
    "version": 3
   },
   "file_extension": ".py",
   "mimetype": "text/x-python",
   "name": "python",
   "nbconvert_exporter": "python",
   "pygments_lexer": "ipython3",
   "version": "3.7.4"
  }
 },
 "nbformat": 4,
 "nbformat_minor": 4
}
